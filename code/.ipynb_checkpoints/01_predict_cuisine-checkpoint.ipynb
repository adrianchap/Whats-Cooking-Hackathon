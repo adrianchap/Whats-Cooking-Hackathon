{
 "cells": [
  {
   "cell_type": "code",
   "execution_count": 130,
   "metadata": {},
   "outputs": [],
   "source": [
    "import pandas as pd\n",
    "import numpy as np\n",
    "import matplotlib.pyplot as plt\n",
    "import seaborn as sns\n",
    "\n",
    "import string\n",
    "from nltk.stem import WordNetLemmatizer\n",
    "\n",
    "from sklearn.model_selection import train_test_split, GridSearchCV, StratifiedKFold\n",
    "\n",
    "from sklearn.feature_extraction.text import CountVectorizer, TfidfVectorizer\n",
    "from sklearn.ensemble import RandomForestClassifier\n",
    "from sklearn.pipeline import Pipeline\n",
    "from sklearn.svm import LinearSVC, SVC\n",
    "\n",
    "from sklearn.metrics import classification_report, accuracy_score\n",
    "\n"
   ]
  },
  {
   "cell_type": "markdown",
   "metadata": {},
   "source": [
    "# Read in the data"
   ]
  },
  {
   "cell_type": "code",
   "execution_count": 131,
   "metadata": {},
   "outputs": [],
   "source": [
    "df_train = pd.read_json('../data/train.json')"
   ]
  },
  {
   "cell_type": "code",
   "execution_count": 132,
   "metadata": {},
   "outputs": [],
   "source": [
    "df_test = pd.read_json('../data/test.json')"
   ]
  },
  {
   "cell_type": "code",
   "execution_count": 133,
   "metadata": {},
   "outputs": [
    {
     "data": {
      "text/html": [
       "<div>\n",
       "<style scoped>\n",
       "    .dataframe tbody tr th:only-of-type {\n",
       "        vertical-align: middle;\n",
       "    }\n",
       "\n",
       "    .dataframe tbody tr th {\n",
       "        vertical-align: top;\n",
       "    }\n",
       "\n",
       "    .dataframe thead th {\n",
       "        text-align: right;\n",
       "    }\n",
       "</style>\n",
       "<table border=\"1\" class=\"dataframe\">\n",
       "  <thead>\n",
       "    <tr style=\"text-align: right;\">\n",
       "      <th></th>\n",
       "      <th>id</th>\n",
       "      <th>cuisine</th>\n",
       "      <th>ingredients</th>\n",
       "    </tr>\n",
       "  </thead>\n",
       "  <tbody>\n",
       "    <tr>\n",
       "      <th>0</th>\n",
       "      <td>10259</td>\n",
       "      <td>greek</td>\n",
       "      <td>[romaine lettuce, black olives, grape tomatoes...</td>\n",
       "    </tr>\n",
       "    <tr>\n",
       "      <th>1</th>\n",
       "      <td>25693</td>\n",
       "      <td>southern_us</td>\n",
       "      <td>[plain flour, ground pepper, salt, tomatoes, g...</td>\n",
       "    </tr>\n",
       "    <tr>\n",
       "      <th>2</th>\n",
       "      <td>20130</td>\n",
       "      <td>filipino</td>\n",
       "      <td>[eggs, pepper, salt, mayonaise, cooking oil, g...</td>\n",
       "    </tr>\n",
       "    <tr>\n",
       "      <th>3</th>\n",
       "      <td>22213</td>\n",
       "      <td>indian</td>\n",
       "      <td>[water, vegetable oil, wheat, salt]</td>\n",
       "    </tr>\n",
       "    <tr>\n",
       "      <th>4</th>\n",
       "      <td>13162</td>\n",
       "      <td>indian</td>\n",
       "      <td>[black pepper, shallots, cornflour, cayenne pe...</td>\n",
       "    </tr>\n",
       "  </tbody>\n",
       "</table>\n",
       "</div>"
      ],
      "text/plain": [
       "      id      cuisine                                        ingredients\n",
       "0  10259        greek  [romaine lettuce, black olives, grape tomatoes...\n",
       "1  25693  southern_us  [plain flour, ground pepper, salt, tomatoes, g...\n",
       "2  20130     filipino  [eggs, pepper, salt, mayonaise, cooking oil, g...\n",
       "3  22213       indian                [water, vegetable oil, wheat, salt]\n",
       "4  13162       indian  [black pepper, shallots, cornflour, cayenne pe..."
      ]
     },
     "execution_count": 133,
     "metadata": {},
     "output_type": "execute_result"
    }
   ],
   "source": [
    "df_train.head()"
   ]
  },
  {
   "cell_type": "code",
   "execution_count": 134,
   "metadata": {},
   "outputs": [
    {
     "data": {
      "text/plain": [
       "(39774, 3)"
      ]
     },
     "execution_count": 134,
     "metadata": {},
     "output_type": "execute_result"
    }
   ],
   "source": [
    "df_train.shape"
   ]
  },
  {
   "cell_type": "code",
   "execution_count": 135,
   "metadata": {},
   "outputs": [
    {
     "data": {
      "text/html": [
       "<div>\n",
       "<style scoped>\n",
       "    .dataframe tbody tr th:only-of-type {\n",
       "        vertical-align: middle;\n",
       "    }\n",
       "\n",
       "    .dataframe tbody tr th {\n",
       "        vertical-align: top;\n",
       "    }\n",
       "\n",
       "    .dataframe thead th {\n",
       "        text-align: right;\n",
       "    }\n",
       "</style>\n",
       "<table border=\"1\" class=\"dataframe\">\n",
       "  <thead>\n",
       "    <tr style=\"text-align: right;\">\n",
       "      <th></th>\n",
       "      <th>id</th>\n",
       "      <th>ingredients</th>\n",
       "    </tr>\n",
       "  </thead>\n",
       "  <tbody>\n",
       "    <tr>\n",
       "      <th>0</th>\n",
       "      <td>18009</td>\n",
       "      <td>[baking powder, eggs, all-purpose flour, raisi...</td>\n",
       "    </tr>\n",
       "    <tr>\n",
       "      <th>1</th>\n",
       "      <td>28583</td>\n",
       "      <td>[sugar, egg yolks, corn starch, cream of tarta...</td>\n",
       "    </tr>\n",
       "    <tr>\n",
       "      <th>2</th>\n",
       "      <td>41580</td>\n",
       "      <td>[sausage links, fennel bulb, fronds, olive oil...</td>\n",
       "    </tr>\n",
       "    <tr>\n",
       "      <th>3</th>\n",
       "      <td>29752</td>\n",
       "      <td>[meat cuts, file powder, smoked sausage, okra,...</td>\n",
       "    </tr>\n",
       "    <tr>\n",
       "      <th>4</th>\n",
       "      <td>35687</td>\n",
       "      <td>[ground black pepper, salt, sausage casings, l...</td>\n",
       "    </tr>\n",
       "  </tbody>\n",
       "</table>\n",
       "</div>"
      ],
      "text/plain": [
       "      id                                        ingredients\n",
       "0  18009  [baking powder, eggs, all-purpose flour, raisi...\n",
       "1  28583  [sugar, egg yolks, corn starch, cream of tarta...\n",
       "2  41580  [sausage links, fennel bulb, fronds, olive oil...\n",
       "3  29752  [meat cuts, file powder, smoked sausage, okra,...\n",
       "4  35687  [ground black pepper, salt, sausage casings, l..."
      ]
     },
     "execution_count": 135,
     "metadata": {},
     "output_type": "execute_result"
    }
   ],
   "source": [
    "df_test.head()"
   ]
  },
  {
   "cell_type": "markdown",
   "metadata": {},
   "source": [
    "# Data Cleaning"
   ]
  },
  {
   "cell_type": "code",
   "execution_count": 136,
   "metadata": {},
   "outputs": [],
   "source": [
    "# Turn the ingredients lists into strings\n",
    "df_train['ingredients_string'] = [' '.join(i).strip() for i in df_train['ingredients']]  \n",
    "df_test['ingredients_string'] = [' '.join(i).strip() for i in df_test['ingredients']]  "
   ]
  },
  {
   "cell_type": "code",
   "execution_count": 137,
   "metadata": {},
   "outputs": [],
   "source": [
    "# Adapted from a review with Heather\n",
    "# Function to remove punctuation and digits\n",
    "def remove_punctuation(text):\n",
    "    lower = text.lower()  \n",
    "    exclude = string.punctuation + string.digits #identifies punctuation marks and digits\n",
    "    return \"\".join(ch for ch in lower if ch not in exclude) "
   ]
  },
  {
   "cell_type": "code",
   "execution_count": 138,
   "metadata": {},
   "outputs": [],
   "source": [
    "# Apply the function to the ingredients string\n",
    "df_train['ingredients_string'] = df_train['ingredients_string'].apply(remove_punctuation)\n",
    "df_test['ingredients_string'] = df_test['ingredients_string'].apply(remove_punctuation)"
   ]
  },
  {
   "cell_type": "code",
   "execution_count": 139,
   "metadata": {},
   "outputs": [],
   "source": [
    "# Instantiate lemmatizer. \n",
    "lemmatizer = WordNetLemmatizer()"
   ]
  },
  {
   "cell_type": "code",
   "execution_count": 140,
   "metadata": {},
   "outputs": [],
   "source": [
    "# Adapted from a review with Heather:\n",
    "# This function will lemmatize all the words in our features\n",
    "def split_and_lem(string):\n",
    "    word = \"\"   #empty string\n",
    "    string = string.split(' ') #creates list of words\n",
    "    for i in string: #iterates through that list of words\n",
    "        word += (lemmatizer.lemmatize(i) + \" \")  #stems each word and adds to empty string\n",
    "    return word  #returns string with stemmed words"
   ]
  },
  {
   "cell_type": "code",
   "execution_count": 141,
   "metadata": {},
   "outputs": [],
   "source": [
    "# Lemmatize the string\n",
    "df_train['ingredients_string'] = df_train['ingredients_string'].apply(split_and_lem)\n",
    "df_test['ingredients_string'] = df_test['ingredients_string'].apply(split_and_lem)"
   ]
  },
  {
   "cell_type": "markdown",
   "metadata": {},
   "source": [
    "# EDA"
   ]
  },
  {
   "cell_type": "code",
   "execution_count": 146,
   "metadata": {},
   "outputs": [
    {
     "data": {
      "text/plain": [
       "italian         0.197063\n",
       "mexican         0.161865\n",
       "southern_us     0.108614\n",
       "indian          0.075502\n",
       "chinese         0.067205\n",
       "french          0.066526\n",
       "cajun_creole    0.038870\n",
       "thai            0.038694\n",
       "japanese        0.035777\n",
       "greek           0.029542\n",
       "spanish         0.024865\n",
       "korean          0.020868\n",
       "vietnamese      0.020742\n",
       "moroccan        0.020642\n",
       "british         0.020214\n",
       "filipino        0.018982\n",
       "irish           0.016770\n",
       "jamaican        0.013225\n",
       "russian         0.012294\n",
       "brazilian       0.011741\n",
       "Name: cuisine, dtype: float64"
      ]
     },
     "execution_count": 146,
     "metadata": {},
     "output_type": "execute_result"
    }
   ],
   "source": [
    "# Check the value counts of the target variable\n",
    "df_train['cuisine'].value_counts(normalize=True)"
   ]
  },
  {
   "cell_type": "code",
   "execution_count": 103,
   "metadata": {},
   "outputs": [],
   "source": [
    "# Instantiate the transformer.\n",
    "tvec = TfidfVectorizer()"
   ]
  },
  {
   "cell_type": "code",
   "execution_count": 104,
   "metadata": {},
   "outputs": [],
   "source": [
    "# Split into training & testing sets\n",
    "X = df_train['ingredients_string']\n",
    "y = df_train['cuisine']\n",
    "X_train, X_test, y_train, y_test = train_test_split(X, y, stratify = y, random_state=13)"
   ]
  },
  {
   "cell_type": "code",
   "execution_count": 105,
   "metadata": {},
   "outputs": [
    {
     "data": {
      "text/plain": [
       "pepper    1909.383243\n",
       "salt      1656.974944\n",
       "oil       1627.710554\n",
       "ground    1542.845172\n",
       "fresh     1529.469443\n",
       "onion     1451.261345\n",
       "garlic    1419.196078\n",
       "sauce     1261.301552\n",
       "sugar     1249.055521\n",
       "cheese    1219.713109\n",
       "dtype: float64"
      ]
     },
     "execution_count": 105,
     "metadata": {},
     "output_type": "execute_result"
    }
   ],
   "source": [
    "# convert training data to dataframe\n",
    "X_train_df = pd.DataFrame(tvec.fit_transform(X_train).todense(), \n",
    "                          columns=tvec.get_feature_names())\n",
    "\n",
    "# plot top occuring words\n",
    "X_train_df.sum().sort_values(ascending=False).head(10) #.plot(kind='barh');"
   ]
  },
  {
   "cell_type": "code",
   "execution_count": 109,
   "metadata": {},
   "outputs": [
    {
     "data": {
      "text/html": [
       "<div>\n",
       "<style scoped>\n",
       "    .dataframe tbody tr th:only-of-type {\n",
       "        vertical-align: middle;\n",
       "    }\n",
       "\n",
       "    .dataframe tbody tr th {\n",
       "        vertical-align: top;\n",
       "    }\n",
       "\n",
       "    .dataframe thead th {\n",
       "        text-align: right;\n",
       "    }\n",
       "</style>\n",
       "<table border=\"1\" class=\"dataframe\">\n",
       "  <thead>\n",
       "    <tr style=\"text-align: right;\">\n",
       "      <th></th>\n",
       "      <th>cuisine</th>\n",
       "      <th>abalone</th>\n",
       "      <th>abbamele</th>\n",
       "      <th>absinthe</th>\n",
       "      <th>abura</th>\n",
       "      <th>acai</th>\n",
       "      <th>accent</th>\n",
       "      <th>achiote</th>\n",
       "      <th>acid</th>\n",
       "      <th>acinus</th>\n",
       "      <th>...</th>\n",
       "      <th>zaatar</th>\n",
       "      <th>zatarain</th>\n",
       "      <th>zatarains</th>\n",
       "      <th>zero</th>\n",
       "      <th>zest</th>\n",
       "      <th>zesty</th>\n",
       "      <th>zinfandel</th>\n",
       "      <th>ziti</th>\n",
       "      <th>zucchini</th>\n",
       "      <th>épices</th>\n",
       "    </tr>\n",
       "  </thead>\n",
       "  <tbody>\n",
       "    <tr>\n",
       "      <th>0</th>\n",
       "      <td>greek</td>\n",
       "      <td>0.0</td>\n",
       "      <td>0.0</td>\n",
       "      <td>0.0</td>\n",
       "      <td>0.0</td>\n",
       "      <td>0.0</td>\n",
       "      <td>0.0</td>\n",
       "      <td>0.0</td>\n",
       "      <td>0.0</td>\n",
       "      <td>0.0</td>\n",
       "      <td>...</td>\n",
       "      <td>0.0</td>\n",
       "      <td>0.0</td>\n",
       "      <td>0.0</td>\n",
       "      <td>0.0</td>\n",
       "      <td>0.0</td>\n",
       "      <td>0.0</td>\n",
       "      <td>0.0</td>\n",
       "      <td>0.0</td>\n",
       "      <td>0.0</td>\n",
       "      <td>0.0</td>\n",
       "    </tr>\n",
       "    <tr>\n",
       "      <th>1</th>\n",
       "      <td>southern_us</td>\n",
       "      <td>0.0</td>\n",
       "      <td>0.0</td>\n",
       "      <td>0.0</td>\n",
       "      <td>0.0</td>\n",
       "      <td>0.0</td>\n",
       "      <td>0.0</td>\n",
       "      <td>0.0</td>\n",
       "      <td>0.0</td>\n",
       "      <td>0.0</td>\n",
       "      <td>...</td>\n",
       "      <td>0.0</td>\n",
       "      <td>0.0</td>\n",
       "      <td>0.0</td>\n",
       "      <td>0.0</td>\n",
       "      <td>0.0</td>\n",
       "      <td>0.0</td>\n",
       "      <td>0.0</td>\n",
       "      <td>0.0</td>\n",
       "      <td>0.0</td>\n",
       "      <td>0.0</td>\n",
       "    </tr>\n",
       "    <tr>\n",
       "      <th>2</th>\n",
       "      <td>filipino</td>\n",
       "      <td>0.0</td>\n",
       "      <td>0.0</td>\n",
       "      <td>0.0</td>\n",
       "      <td>0.0</td>\n",
       "      <td>0.0</td>\n",
       "      <td>0.0</td>\n",
       "      <td>0.0</td>\n",
       "      <td>0.0</td>\n",
       "      <td>0.0</td>\n",
       "      <td>...</td>\n",
       "      <td>0.0</td>\n",
       "      <td>0.0</td>\n",
       "      <td>0.0</td>\n",
       "      <td>0.0</td>\n",
       "      <td>0.0</td>\n",
       "      <td>0.0</td>\n",
       "      <td>0.0</td>\n",
       "      <td>0.0</td>\n",
       "      <td>0.0</td>\n",
       "      <td>0.0</td>\n",
       "    </tr>\n",
       "    <tr>\n",
       "      <th>3</th>\n",
       "      <td>indian</td>\n",
       "      <td>0.0</td>\n",
       "      <td>0.0</td>\n",
       "      <td>0.0</td>\n",
       "      <td>0.0</td>\n",
       "      <td>0.0</td>\n",
       "      <td>0.0</td>\n",
       "      <td>0.0</td>\n",
       "      <td>0.0</td>\n",
       "      <td>0.0</td>\n",
       "      <td>...</td>\n",
       "      <td>0.0</td>\n",
       "      <td>0.0</td>\n",
       "      <td>0.0</td>\n",
       "      <td>0.0</td>\n",
       "      <td>0.0</td>\n",
       "      <td>0.0</td>\n",
       "      <td>0.0</td>\n",
       "      <td>0.0</td>\n",
       "      <td>0.0</td>\n",
       "      <td>0.0</td>\n",
       "    </tr>\n",
       "    <tr>\n",
       "      <th>4</th>\n",
       "      <td>indian</td>\n",
       "      <td>0.0</td>\n",
       "      <td>0.0</td>\n",
       "      <td>0.0</td>\n",
       "      <td>0.0</td>\n",
       "      <td>0.0</td>\n",
       "      <td>0.0</td>\n",
       "      <td>0.0</td>\n",
       "      <td>0.0</td>\n",
       "      <td>0.0</td>\n",
       "      <td>...</td>\n",
       "      <td>0.0</td>\n",
       "      <td>0.0</td>\n",
       "      <td>0.0</td>\n",
       "      <td>0.0</td>\n",
       "      <td>0.0</td>\n",
       "      <td>0.0</td>\n",
       "      <td>0.0</td>\n",
       "      <td>0.0</td>\n",
       "      <td>0.0</td>\n",
       "      <td>0.0</td>\n",
       "    </tr>\n",
       "  </tbody>\n",
       "</table>\n",
       "<p>5 rows × 2711 columns</p>\n",
       "</div>"
      ],
      "text/plain": [
       "       cuisine  abalone  abbamele  absinthe  abura  acai  accent  achiote  \\\n",
       "0        greek      0.0       0.0       0.0    0.0   0.0     0.0      0.0   \n",
       "1  southern_us      0.0       0.0       0.0    0.0   0.0     0.0      0.0   \n",
       "2     filipino      0.0       0.0       0.0    0.0   0.0     0.0      0.0   \n",
       "3       indian      0.0       0.0       0.0    0.0   0.0     0.0      0.0   \n",
       "4       indian      0.0       0.0       0.0    0.0   0.0     0.0      0.0   \n",
       "\n",
       "   acid  acinus  ...  zaatar  zatarain  zatarains  zero  zest  zesty  \\\n",
       "0   0.0     0.0  ...     0.0       0.0        0.0   0.0   0.0    0.0   \n",
       "1   0.0     0.0  ...     0.0       0.0        0.0   0.0   0.0    0.0   \n",
       "2   0.0     0.0  ...     0.0       0.0        0.0   0.0   0.0    0.0   \n",
       "3   0.0     0.0  ...     0.0       0.0        0.0   0.0   0.0    0.0   \n",
       "4   0.0     0.0  ...     0.0       0.0        0.0   0.0   0.0    0.0   \n",
       "\n",
       "   zinfandel  ziti  zucchini  épices  \n",
       "0        0.0   0.0       0.0     0.0  \n",
       "1        0.0   0.0       0.0     0.0  \n",
       "2        0.0   0.0       0.0     0.0  \n",
       "3        0.0   0.0       0.0     0.0  \n",
       "4        0.0   0.0       0.0     0.0  \n",
       "\n",
       "[5 rows x 2711 columns]"
      ]
     },
     "execution_count": 109,
     "metadata": {},
     "output_type": "execute_result"
    }
   ],
   "source": [
    "# Add cuisine column back to vectorized dataframe\n",
    "X_train_df.drop(columns='cuisine', inplace=True)\n",
    "df_fig = pd.concat([df_train['cuisine'], X_train_df], axis =1)\n",
    "df_fig.head()"
   ]
  },
  {
   "cell_type": "code",
   "execution_count": 112,
   "metadata": {},
   "outputs": [
    {
     "data": {
      "text/plain": [
       "['italian',\n",
       " 'mexican',\n",
       " 'southern_us',\n",
       " 'indian',\n",
       " 'chinese',\n",
       " 'french',\n",
       " 'cajun_creole',\n",
       " 'thai',\n",
       " 'japanese',\n",
       " 'greek',\n",
       " 'spanish',\n",
       " 'korean',\n",
       " 'vietnamese',\n",
       " 'moroccan',\n",
       " 'british',\n",
       " 'filipino',\n",
       " 'irish',\n",
       " 'jamaican',\n",
       " 'russian',\n",
       " 'brazilian']"
      ]
     },
     "execution_count": 112,
     "metadata": {},
     "output_type": "execute_result"
    }
   ],
   "source": [
    "# List all cuisine types\n",
    "cuisines = list(df_fig['cuisine'].value_counts().index)\n",
    "cuisines"
   ]
  },
  {
   "cell_type": "code",
   "execution_count": 128,
   "metadata": {},
   "outputs": [
    {
     "data": {
      "image/png": "[encoded data removed]",
      "text/plain": [
       "<Figure size 864x7200 with 20 Axes>"
      ]
     },
     "metadata": {
      "needs_background": "light"
     },
     "output_type": "display_data"
    }
   ],
   "source": [
    "# Adapted from our Branford Law lecture:\n",
    "# Plot the top words for every cuisine\n",
    "fig, axes = plt.subplots(nrows=len(cuisines), figsize=(12, 5 * len(cuisines)))\n",
    "for i, x in enumerate(cuisines):\n",
    "    cuisine_words = df_fig[df_fig['cuisine'] == x]\n",
    "    cuisine_words = cuisine_words.drop(columns='cuisine')\n",
    "    top_cuisine_words = cuisine_words.sum().sort_values(ascending=False).head(10)\n",
    "    axes[i].bar(top_cuisine_words.index, top_cuisine_words)\n",
    "    axes[i].set_title(x);"
   ]
  },
  {
   "cell_type": "markdown",
   "metadata": {},
   "source": [
    "# Model Prep"
   ]
  },
  {
   "cell_type": "code",
   "execution_count": 142,
   "metadata": {},
   "outputs": [],
   "source": [
    "# Step 1: Split into training & testing sets\n",
    "X = df_train['ingredients_string']\n",
    "y = df_train['cuisine']\n",
    "X_train, X_test, y_train, y_test = train_test_split(X, y, stratify = y, random_state=13)"
   ]
  },
  {
   "cell_type": "markdown",
   "metadata": {},
   "source": [
    "# Model 1: Random Forest"
   ]
  },
  {
   "cell_type": "code",
   "execution_count": 42,
   "metadata": {},
   "outputs": [
    {
     "name": "stdout",
     "output_type": "stream",
     "text": [
      "{'tvec__max_features': [2000, 3000, 4000, 5000], 'tvec__stop_words': [None, 'english'], 'tvec__min_df': [2, 3], 'tvec__max_df': [0.9, 0.95], 'tvec__ngram_range': [(1, 1), (1, 2)], 'rf__n_estimators': [200, 400, 600, 800, 1000, 1200, 1400, 1600, 1800, 2000], 'rf__max_features': ['auto', 'sqrt'], 'rf__max_depth': [10, 20, 30, 40, 50, 60, 70, 80, 90, 100, 110, None], 'rf__min_samples_split': [2, 5, 10], 'rf__min_samples_leaf': [1, 2, 4], 'rf__bootstrap': [True, False]}\n"
     ]
    }
   ],
   "source": [
    "# Adapted from https://towardsdatascience.com/hyperparameter-tuning-the-random-forest-in-python-using-scikit-learn-28d2aa77dd74\n",
    "\n",
    "# Create variables that set parameter ranges\n",
    "from sklearn.model_selection import RandomizedSearchCV\n",
    "# Number of trees in random forest\n",
    "n_estimators = [int(x) for x in np.linspace(start = 200, stop = 2000, num = 10)]\n",
    "# Number of features to consider at every split\n",
    "max_features = ['auto', 'sqrt']\n",
    "# Maximum number of levels in tree\n",
    "max_depth = [int(x) for x in np.linspace(10, 110, num = 11)]\n",
    "max_depth.append(None)\n",
    "# Minimum number of samples required to split a node\n",
    "min_samples_split = [2, 5, 10]\n",
    "# Minimum number of samples required at each leaf node\n",
    "min_samples_leaf = [1, 2, 4]\n",
    "# Method of selecting samples for training each tree\n",
    "bootstrap = [True, False]\n",
    "\n",
    "# Create the random grid\n",
    "random_grid = { 'tvec__max_features': [2000, 3000, 4000, 5000],\n",
    "               'tvec__stop_words': [None, 'english'],\n",
    "               'tvec__min_df' : [2, 3],\n",
    "               'tvec__max_df': [.9, .95],\n",
    "               'tvec__ngram_range': [(1,1), (1,2)],\n",
    "               'rf__n_estimators': n_estimators,\n",
    "               'rf__max_features': max_features,\n",
    "               'rf__max_depth': max_depth,\n",
    "               'rf__min_samples_split': min_samples_split,\n",
    "               'rf__min_samples_leaf': min_samples_leaf,\n",
    "               'rf__bootstrap': bootstrap}\n",
    "print(random_grid)"
   ]
  },
  {
   "cell_type": "code",
   "execution_count": 43,
   "metadata": {},
   "outputs": [],
   "source": [
    "# Create a pipeline up with two stages:\n",
    "pipe_tvec = Pipeline([\n",
    "    ('tvec', TfidfVectorizer()),\n",
    "    ('rf', RandomForestClassifier())\n",
    "])\n"
   ]
  },
  {
   "cell_type": "code",
   "execution_count": 45,
   "metadata": {},
   "outputs": [
    {
     "name": "stdout",
     "output_type": "stream",
     "text": [
      "Fitting 2 folds for each of 20 candidates, totalling 40 fits\n"
     ]
    },
    {
     "name": "stderr",
     "output_type": "stream",
     "text": [
      "[Parallel(n_jobs=-1)]: Using backend LokyBackend with 16 concurrent workers.\n",
      "[Parallel(n_jobs=-1)]: Done   9 tasks      | elapsed:  2.5min\n",
      "[Parallel(n_jobs=-1)]: Done  30 out of  40 | elapsed:  9.4min remaining:  3.1min\n",
      "[Parallel(n_jobs=-1)]: Done  40 out of  40 | elapsed: 12.5min finished\n"
     ]
    },
    {
     "data": {
      "text/plain": [
       "RandomizedSearchCV(cv=2,\n",
       "                   estimator=Pipeline(steps=[('tvec', TfidfVectorizer()),\n",
       "                                             ('rf', RandomForestClassifier())]),\n",
       "                   n_iter=20, n_jobs=-1,\n",
       "                   param_distributions={'rf__bootstrap': [True, False],\n",
       "                                        'rf__max_depth': [10, 20, 30, 40, 50,\n",
       "                                                          60, 70, 80, 90, 100,\n",
       "                                                          110, None],\n",
       "                                        'rf__max_features': ['auto', 'sqrt'],\n",
       "                                        'rf__min_samples_leaf': [1, 2, 4],\n",
       "                                        'rf__min_samples_split': [2, 5, 10],\n",
       "                                        'rf__n_estimators': [200, 400, 600, 800,\n",
       "                                                             1000, 1200, 1400,\n",
       "                                                             1600, 1800, 2000],\n",
       "                                        'tvec__max_df': [0.9, 0.95],\n",
       "                                        'tvec__max_features': [2000, 3000, 4000,\n",
       "                                                               5000],\n",
       "                                        'tvec__min_df': [2, 3],\n",
       "                                        'tvec__ngram_range': [(1, 1), (1, 2)],\n",
       "                                        'tvec__stop_words': [None, 'english']},\n",
       "                   random_state=42, verbose=2)"
      ]
     },
     "execution_count": 45,
     "metadata": {},
     "output_type": "execute_result"
    }
   ],
   "source": [
    "# Use the random grid to search for best hyperparameters\n",
    "# First create the base model to tune\n",
    "rf = RandomForestClassifier()\n",
    "# search across 100 different combinations, and use all available cores\n",
    "rf_random = RandomizedSearchCV(pipe_tvec, param_distributions = random_grid, n_iter = 20, cv = 2, verbose=2, random_state=42, n_jobs = -1)\n",
    "# Fit the random search model\n",
    "rf_random.fit(X_train, y_train)"
   ]
  },
  {
   "cell_type": "code",
   "execution_count": 46,
   "metadata": {},
   "outputs": [
    {
     "data": {
      "text/plain": [
       "{'tvec__stop_words': None,\n",
       " 'tvec__ngram_range': (1, 1),\n",
       " 'tvec__min_df': 3,\n",
       " 'tvec__max_features': 4000,\n",
       " 'tvec__max_df': 0.9,\n",
       " 'rf__n_estimators': 1800,\n",
       " 'rf__min_samples_split': 2,\n",
       " 'rf__min_samples_leaf': 1,\n",
       " 'rf__max_features': 'auto',\n",
       " 'rf__max_depth': 70,\n",
       " 'rf__bootstrap': False}"
      ]
     },
     "execution_count": 46,
     "metadata": {},
     "output_type": "execute_result"
    }
   ],
   "source": [
    "# Get best parameters\n",
    "rf_random.best_params_"
   ]
  },
  {
   "cell_type": "code",
   "execution_count": 47,
   "metadata": {},
   "outputs": [
    {
     "name": "stdout",
     "output_type": "stream",
     "text": [
      "Train accuracy = 0.9981897418706001\n",
      "Test accuracy = 0.753218020917136\n"
     ]
    }
   ],
   "source": [
    "# Score model on training and test sets.\n",
    "print(f'Train accuracy = {rf_random.score(X_train, y_train)}')\n",
    "# Score model on testing set.\n",
    "print(f'Test accuracy = {rf_random.score(X_test, y_test)}')"
   ]
  },
  {
   "cell_type": "code",
   "execution_count": 49,
   "metadata": {},
   "outputs": [
    {
     "name": "stdout",
     "output_type": "stream",
     "text": [
      "              precision    recall  f1-score   support\n",
      "\n",
      "     italian     0.9091    0.4274    0.5814       117\n",
      "     mexican     0.7286    0.2537    0.3764       201\n",
      " southern_us     0.7701    0.6684    0.7157       386\n",
      "      indian     0.7339    0.8713    0.7967       668\n",
      "     chinese     0.8165    0.4709    0.5973       189\n",
      "      french     0.6121    0.5030    0.5522       662\n",
      "cajun_creole     0.8209    0.5612    0.6667       294\n",
      "        thai     0.8142    0.9161    0.8622       751\n",
      "    japanese     0.8219    0.3593    0.5000       167\n",
      "       greek     0.7057    0.9128    0.7960      1960\n",
      "     spanish     0.9737    0.5649    0.7150       131\n",
      "      korean     0.8906    0.6404    0.7451       356\n",
      "  vietnamese     0.8797    0.6715    0.7616       207\n",
      "    moroccan     0.8452    0.9329    0.8869      1610\n",
      "     british     0.8418    0.6488    0.7328       205\n",
      "    filipino     0.8095    0.2787    0.4146       122\n",
      "       irish     0.6369    0.7713    0.6977      1080\n",
      "    jamaican     0.7982    0.3522    0.4888       247\n",
      "     russian     0.7735    0.7896    0.7815       385\n",
      "   brazilian     0.8505    0.4417    0.5815       206\n",
      "\n",
      "    accuracy                         0.7532      9944\n",
      "   macro avg     0.8016    0.6018    0.6625      9944\n",
      "weighted avg     0.7633    0.7532    0.7399      9944\n",
      "\n"
     ]
    }
   ],
   "source": [
    "# Adapted from: https://intellipaat.com/community/17347/scikit-learn-get-accuracy-scores-for-each-class\n",
    "\n",
    "# Use classification report to view cuisine level scores\n",
    "\n",
    "\n",
    "y_pred = rf_random.predict(X_test)\n",
    "\n",
    "target_names = list(y_test.value_counts().index)\n",
    "\n",
    "print(classification_report(y_test, y_pred, target_names=target_names, digits=4))"
   ]
  },
  {
   "cell_type": "markdown",
   "metadata": {},
   "source": [
    "# Model 2 - Support Vector Classifier"
   ]
  },
  {
   "cell_type": "code",
   "execution_count": 143,
   "metadata": {},
   "outputs": [],
   "source": [
    "# Adapted from our SVM lecture\n",
    "# Create a pipeline up with two stages:\n",
    "pipe_svc = Pipeline([\n",
    "    ('tvec', TfidfVectorizer(min_df=3, max_features=4000, max_df=0.9)),\n",
    "    ('svc', SVC())\n",
    "])\n"
   ]
  },
  {
   "cell_type": "code",
   "execution_count": 144,
   "metadata": {},
   "outputs": [],
   "source": [
    "# Set up param gird\n",
    "grid = {'svc__C': np.linspace(1, 10, 10)} #0.0001, 1, 10\n",
    "        "
   ]
  },
  {
   "cell_type": "code",
   "execution_count": 145,
   "metadata": {},
   "outputs": [
    {
     "name": "stdout",
     "output_type": "stream",
     "text": [
      "Fitting 3 folds for each of 10 candidates, totalling 30 fits\n"
     ]
    },
    {
     "name": "stderr",
     "output_type": "stream",
     "text": [
      "[Parallel(n_jobs=-1)]: Using backend LokyBackend with 16 concurrent workers.\n",
      "[Parallel(n_jobs=-1)]: Done  15 out of  30 | elapsed:  3.7min remaining:  3.7min\n",
      "[Parallel(n_jobs=-1)]: Done  30 out of  30 | elapsed:  6.8min finished\n"
     ]
    },
    {
     "data": {
      "text/plain": [
       "GridSearchCV(cv=3,\n",
       "             estimator=Pipeline(steps=[('tvec',\n",
       "                                        TfidfVectorizer(max_df=0.9,\n",
       "                                                        max_features=4000,\n",
       "                                                        min_df=3)),\n",
       "                                       ('svc', SVC())]),\n",
       "             n_jobs=-1,\n",
       "             param_grid={'svc__C': array([ 1.,  2.,  3.,  4.,  5.,  6.,  7.,  8.,  9., 10.])},\n",
       "             verbose=2)"
      ]
     },
     "execution_count": 145,
     "metadata": {},
     "output_type": "execute_result"
    }
   ],
   "source": [
    "# Set CV with stratified K fold\n",
    "cv = StratifiedKFold(shuffle = True, random_state = 42)\n",
    "# Gridsearch over support vector classifier params\n",
    "gs = GridSearchCV(pipe_svc, grid, cv = 3, verbose=2, n_jobs=-1)\n",
    "gs.fit(X_train, y_train)"
   ]
  },
  {
   "cell_type": "code",
   "execution_count": 147,
   "metadata": {},
   "outputs": [
    {
     "data": {
      "text/plain": [
       "{'svc__C': 3.0}"
      ]
     },
     "execution_count": 147,
     "metadata": {},
     "output_type": "execute_result"
    }
   ],
   "source": [
    "# Get the best parameters\n",
    "gs.best_params_"
   ]
  },
  {
   "cell_type": "code",
   "execution_count": 148,
   "metadata": {},
   "outputs": [
    {
     "name": "stdout",
     "output_type": "stream",
     "text": [
      "Train accuracy = 0.9948374120013409\n",
      "Test accuracy = 0.8013877715205149\n"
     ]
    }
   ],
   "source": [
    "# Score model on training set.\n",
    "print(f'Train accuracy = {gs.score(X_train, y_train)}')\n",
    "# Score model on testing set.\n",
    "print(f'Test accuracy = {gs.score(X_test, y_test)}')"
   ]
  },
  {
   "cell_type": "code",
   "execution_count": 149,
   "metadata": {},
   "outputs": [
    {
     "name": "stdout",
     "output_type": "stream",
     "text": [
      "              precision    recall  f1-score   support\n",
      "\n",
      "     italian     0.8202    0.6239    0.7087       117\n",
      "     mexican     0.6410    0.4975    0.5602       201\n",
      " southern_us     0.7768    0.7124    0.7432       386\n",
      "      indian     0.8030    0.8728    0.8364       668\n",
      "     chinese     0.7616    0.6085    0.6765       189\n",
      "      french     0.6011    0.6647    0.6313       662\n",
      "cajun_creole     0.8266    0.6973    0.7565       294\n",
      "        thai     0.8692    0.9201    0.8939       751\n",
      "    japanese     0.7213    0.5269    0.6090       167\n",
      "       greek     0.8092    0.8959    0.8504      1960\n",
      "     spanish     0.8981    0.7405    0.8117       131\n",
      "      korean     0.8467    0.7135    0.7744       356\n",
      "  vietnamese     0.8833    0.7681    0.8217       207\n",
      "    moroccan     0.9026    0.9267    0.9145      1610\n",
      "     british     0.8820    0.7659    0.8198       205\n",
      "    filipino     0.7538    0.4016    0.5241       122\n",
      "       irish     0.7206    0.8046    0.7603      1080\n",
      "    jamaican     0.7500    0.5587    0.6404       247\n",
      "     russian     0.8374    0.8026    0.8196       385\n",
      "   brazilian     0.7532    0.5777    0.6538       206\n",
      "\n",
      "    accuracy                         0.8014      9944\n",
      "   macro avg     0.7929    0.7040    0.7403      9944\n",
      "weighted avg     0.8019    0.8014    0.7980      9944\n",
      "\n"
     ]
    }
   ],
   "source": [
    "# from: https://intellipaat.com/community/17347/scikit-learn-get-accuracy-scores-for-each-class\n",
    "\n",
    "# Use classification report to view cuisine level scores\n",
    "\n",
    "y_pred = gs.predict(X_test)\n",
    "\n",
    "target_names = list(y_test.value_counts().index)\n",
    "\n",
    "print(classification_report(y_test, y_pred, target_names=target_names, digits=4))"
   ]
  },
  {
   "cell_type": "code",
   "execution_count": null,
   "metadata": {},
   "outputs": [],
   "source": []
  }
 ],
 "metadata": {
  "kernelspec": {
   "display_name": "Python 3",
   "language": "python",
   "name": "python3"
  },
  "language_info": {
   "codemirror_mode": {
    "name": "ipython",
    "version": 3
   },
   "file_extension": ".py",
   "mimetype": "text/x-python",
   "name": "python",
   "nbconvert_exporter": "python",
   "pygments_lexer": "ipython3",
   "version": "3.8.5"
  }
 },
 "nbformat": 4,
 "nbformat_minor": 4
}
